{
 "cells": [
  {
   "cell_type": "code",
   "execution_count": 1,
   "metadata": {},
   "outputs": [],
   "source": [
    "import numpy as np"
   ]
  },
  {
   "cell_type": "markdown",
   "metadata": {},
   "source": [
    "### Stationary Distribution π"
   ]
  },
  {
   "cell_type": "code",
   "execution_count": 2,
   "metadata": {},
   "outputs": [],
   "source": [
    "A = np.array([\n",
    "    [0.1, 0.4, 0.3, 0.2],\n",
    "    [0.1, 0.4, 0.3, 0.2],\n",
    "    [0.0, 0.1, 0.4, 0.5],\n",
    "    [0.0, 0.0, 0.1, 0.9]\n",
    "])"
   ]
  },
  {
   "cell_type": "markdown",
   "metadata": {},
   "source": [
    "#### Brute force approx."
   ]
  },
  {
   "cell_type": "code",
   "execution_count": 18,
   "metadata": {},
   "outputs": [
    {
     "name": "stdout",
     "output_type": "stream",
     "text": [
      "[[0.0030303  0.02727273 0.15151515 0.81818182]\n",
      " [0.0030303  0.02727273 0.15151515 0.81818182]\n",
      " [0.0030303  0.02727273 0.15151515 0.81818182]\n",
      " [0.0030303  0.02727273 0.15151515 0.81818182]]\n"
     ]
    }
   ],
   "source": [
    "n= 100000\n",
    "A_n= A\n",
    "for i in range(n):\n",
    "    A_n = np.dot(A_n,A)\n",
    "\n",
    "print(A_n)"
   ]
  },
  {
   "cell_type": "markdown",
   "metadata": {},
   "source": [
    "#### approx. via eigen value decomposition"
   ]
  },
  {
   "cell_type": "code",
   "execution_count": 19,
   "metadata": {},
   "outputs": [
    {
     "data": {
      "text/plain": [
       "(array([ 1.00000000e+00,  5.73205081e-01, -4.30037190e-17,  2.26794919e-01]),\n",
       " array([[-3.63980654e-03, -8.46457535e-02, -7.07106781e-01,\n",
       "          1.33119590e-01],\n",
       "        [-3.27582588e-02, -4.00548006e-01,  7.07106781e-01,\n",
       "          1.68788877e-01],\n",
       "        [-1.81990327e-01, -3.55186484e-01, -1.75319589e-16,\n",
       "         -8.24829269e-01],\n",
       "        [-9.82747765e-01,  8.40380243e-01,  1.05508493e-16,\n",
       "          5.22920803e-01]]),\n",
       " 0)"
      ]
     },
     "execution_count": 19,
     "metadata": {},
     "output_type": "execute_result"
    }
   ],
   "source": [
    "eigenvalues, P_vectors = np.linalg.eig(A.T)\n",
    "# print(np.isclose(eigenvalues, 1).any()) #verification\n",
    "id = np.argmin(np.abs(eigenvalues - 1))\n",
    "eigenvalues, P_vectors, id"
   ]
  },
  {
   "cell_type": "code",
   "execution_count": 20,
   "metadata": {},
   "outputs": [
    {
     "data": {
      "text/plain": [
       "array([0.0030303 , 0.02727273, 0.15151515, 0.81818182])"
      ]
     },
     "execution_count": 20,
     "metadata": {},
     "output_type": "execute_result"
    }
   ],
   "source": [
    "pi= np.real(P_vectors[:, id])\n",
    "pi/= pi.sum()\n",
    "pi"
   ]
  },
  {
   "cell_type": "markdown",
   "metadata": {},
   "source": [
    "$$\n",
    "(A^T)^n = P D^n P^{-1} \\iff A^n = (P D^n P^{-1})^T\n",
    "$$"
   ]
  },
  {
   "cell_type": "code",
   "execution_count": 21,
   "metadata": {},
   "outputs": [],
   "source": [
    "eigenvalues, eigenvectors = np.linalg.eig(A)\n",
    "P = eigenvectors\n",
    "D = np.diag(eigenvalues)\n",
    "\n",
    "P_inv = np.linalg.inv(P)\n",
    "\n",
    "n = 10**5\n",
    "\n",
    "D_n = np.diag(eigenvalues**n)\n",
    "\n",
    "A_n = P @ D_n @ P_inv"
   ]
  },
  {
   "cell_type": "code",
   "execution_count": 22,
   "metadata": {},
   "outputs": [
    {
     "data": {
      "text/plain": [
       "array([[0.0030303 , 0.02727273, 0.15151515, 0.81818182],\n",
       "       [0.0030303 , 0.02727273, 0.15151515, 0.81818182],\n",
       "       [0.0030303 , 0.02727273, 0.15151515, 0.81818182],\n",
       "       [0.0030303 , 0.02727273, 0.15151515, 0.81818182]])"
      ]
     },
     "execution_count": 22,
     "metadata": {},
     "output_type": "execute_result"
    }
   ],
   "source": [
    "A_n"
   ]
  },
  {
   "cell_type": "markdown",
   "metadata": {},
   "source": [
    "### constrained linear system resolution "
   ]
  },
  {
   "cell_type": "code",
   "execution_count": 24,
   "metadata": {},
   "outputs": [],
   "source": [
    "def compute_pi(A):\n",
    "\n",
    "    n = A.shape[0]  \n",
    "    A = np.transpose(A) - np.eye(n)  \n",
    "\n",
    "    A[-1, :] = 1\n",
    "\n",
    "    b = np.zeros(n)\n",
    "    b[-1] = 1  #sum(pi) = 1\n",
    "\n",
    "    pi = np.linalg.solve(A, b) # A * pi = b\n",
    "    return pi\n"
   ]
  },
  {
   "cell_type": "code",
   "execution_count": 25,
   "metadata": {},
   "outputs": [
    {
     "data": {
      "text/plain": [
       "array([0.0030303 , 0.02727273, 0.15151515, 0.81818182])"
      ]
     },
     "execution_count": 25,
     "metadata": {},
     "output_type": "execute_result"
    }
   ],
   "source": [
    "compute_pi(A)"
   ]
  },
  {
   "cell_type": "markdown",
   "metadata": {},
   "source": [
    "### MC simulation"
   ]
  },
  {
   "cell_type": "code",
   "execution_count": 29,
   "metadata": {},
   "outputs": [
    {
     "data": {
      "text/plain": [
       "array([0, 1, 0, 0, 2, 3, 3, 3, 3, 3])"
      ]
     },
     "execution_count": 29,
     "metadata": {},
     "output_type": "execute_result"
    }
   ],
   "source": [
    "def sample_chain(n, x_0):\n",
    "\n",
    "    states = np.zeros(n, dtype=int)\n",
    "    states[0] = x_0\n",
    "    \n",
    "    for i in range(1, n):\n",
    "        current_state = states[i-1]\n",
    "        states[i] = np.random.choice([0, 1, 2, 3], p=A[current_state])\n",
    "\n",
    "    return states\n",
    "\n",
    "sample_chain(n=10, x_0=0)"
   ]
  },
  {
   "cell_type": "markdown",
   "metadata": {},
   "source": [
    "### Ergodicity (irreductible nd aperiodic chain)"
   ]
  },
  {
   "cell_type": "code",
   "execution_count": null,
   "metadata": {},
   "outputs": [],
   "source": []
  },
  {
   "cell_type": "markdown",
   "metadata": {},
   "source": []
  }
 ],
 "metadata": {
  "kernelspec": {
   "display_name": "Python 3",
   "language": "python",
   "name": "python3"
  },
  "language_info": {
   "codemirror_mode": {
    "name": "ipython",
    "version": 3
   },
   "file_extension": ".py",
   "mimetype": "text/x-python",
   "name": "python",
   "nbconvert_exporter": "python",
   "pygments_lexer": "ipython3",
   "version": "3.11.6"
  }
 },
 "nbformat": 4,
 "nbformat_minor": 2
}
