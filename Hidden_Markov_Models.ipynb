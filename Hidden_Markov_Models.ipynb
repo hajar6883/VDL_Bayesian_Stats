{
 "cells": [
  {
   "cell_type": "markdown",
   "metadata": {},
   "source": [
    "## Hidden Markov Models: forward, Viterbi & Baum-Walch algorithms\n"
   ]
  },
  {
   "cell_type": "code",
   "execution_count": 4,
   "metadata": {},
   "outputs": [],
   "source": [
    "import numpy as np\n",
    "import matplotlib.pyplot as plt\n",
    "import math\n",
    "import seaborn as sns\n",
    "import random as random\n",
    "import pandas as pd\n",
    "random.seed(42)"
   ]
  },
  {
   "cell_type": "markdown",
   "metadata": {},
   "source": [
    "### Question 1 : simulation d’un HMM\n"
   ]
  },
  {
   "cell_type": "code",
   "execution_count": 5,
   "metadata": {},
   "outputs": [],
   "source": [
    "def SimuHMMdisc(n, param):\n",
    "\n",
    "    nu = np.array(param['pi'])\n",
    "   \n",
    "    B= np.array(param['B'])\n",
    "    A= np.array(param['A']) \n",
    "\n",
    "    z = np.zeros(n, dtype=int)\n",
    "    x = np.zeros(n, dtype=int)\n",
    "    \n",
    "    #sample first hidden state and first observation\n",
    "    z[0] = np.random.choice(len(nu), p = nu) \n",
    "    print(z)\n",
    "    x[0] = np.random.choice(len(B[z[0]]), p=B[z[0]])\n",
    "    print(x)\n",
    " \n",
    "    for i in range(1,n):\n",
    "        z[i]= np.random.choice( len(nu), p=A[z[i-1]])\n",
    "        print(z)\n",
    "        x[i] = np.random.choice(len(B[z[i]]), p= B[z[i]])\n",
    "        print(x)\n",
    "\n",
    "  \n",
    "    sequence = list(zip(x, z))\n",
    "    \n",
    "    return sequence \n"
   ]
  },
  {
   "cell_type": "code",
   "execution_count": 6,
   "metadata": {},
   "outputs": [],
   "source": [
    "n = int(10)"
   ]
  },
  {
   "cell_type": "code",
   "execution_count": 7,
   "metadata": {},
   "outputs": [
    {
     "data": {
      "text/plain": [
       "{'A': array([[0.95, 0.05],\n",
       "        [0.1 , 0.9 ]]),\n",
       " 'B': array([[0.16666667, 0.16666667, 0.16666667, 0.16666667, 0.16666667,\n",
       "         0.16666667],\n",
       "        [0.1       , 0.1       , 0.1       , 0.1       , 0.1       ,\n",
       "         0.5       ]]),\n",
       " 'pi': array([0.66666667, 0.33333333])}"
      ]
     },
     "execution_count": 7,
     "metadata": {},
     "output_type": "execute_result"
    }
   ],
   "source": [
    "# Transition Matrix A for the hidden states\n",
    "A = np.array([\n",
    "    [0.95, 0.05],\n",
    "    [0.10, 0.90]\n",
    "])\n",
    "\n",
    "# Emission Matrix B\n",
    "# Rows correspond to hidden states, columns to observable outcomes\n",
    "# B = np.transpose(np.array([\n",
    "#     [1/6]*6 + [1/10]*5 + [0.5],\n",
    "#     [1/6]*6 + [1/10]*5 + [0.5]\n",
    "# ])).reshape(6, 2)\n",
    "B = np.array([\n",
    "    [1/6, 1/6, 1/6, 1/6, 1/6, 1/6],  # Uniform distribution over 6 outcomes for state 0\n",
    "    [1/10, 1/10, 1/10, 1/10, 1/10, 0.5]  # Different distribution for state 1\n",
    "])\n",
    "\n",
    "eigenvalues, eigenvectors = np.linalg.eig(A.T)\n",
    "pi_vector = eigenvectors[:, np.isclose(eigenvalues, 1)]\n",
    "pi_real = np.real(pi_vector)\n",
    "pi = pi_real / np.sum(pi_real)\n",
    "\n",
    "params = {\n",
    "    'A': A,\n",
    "    'B': B,\n",
    "    'pi': pi.flatten()  \n",
    "}\n",
    "params\n"
   ]
  },
  {
   "cell_type": "code",
   "execution_count": 8,
   "metadata": {},
   "outputs": [
    {
     "name": "stdout",
     "output_type": "stream",
     "text": [
      "[0 0 0 0 0 0 0 0 0 0]\n",
      "[1 0 0 0 0 0 0 0 0 0]\n",
      "[0 0 0 0 0 0 0 0 0 0]\n",
      "[1 5 0 0 0 0 0 0 0 0]\n",
      "[0 0 0 0 0 0 0 0 0 0]\n",
      "[1 5 1 0 0 0 0 0 0 0]\n",
      "[0 0 0 1 0 0 0 0 0 0]\n",
      "[1 5 1 0 0 0 0 0 0 0]\n",
      "[0 0 0 1 1 0 0 0 0 0]\n",
      "[1 5 1 0 5 0 0 0 0 0]\n",
      "[0 0 0 1 1 0 0 0 0 0]\n",
      "[1 5 1 0 5 1 0 0 0 0]\n",
      "[0 0 0 1 1 0 0 0 0 0]\n",
      "[1 5 1 0 5 1 3 0 0 0]\n",
      "[0 0 0 1 1 0 0 0 0 0]\n",
      "[1 5 1 0 5 1 3 1 0 0]\n",
      "[0 0 0 1 1 0 0 0 0 0]\n",
      "[1 5 1 0 5 1 3 1 5 0]\n",
      "[0 0 0 1 1 0 0 0 0 1]\n",
      "[1 5 1 0 5 1 3 1 5 2]\n"
     ]
    },
    {
     "data": {
      "text/plain": [
       "[(1, 0),\n",
       " (5, 0),\n",
       " (1, 0),\n",
       " (0, 1),\n",
       " (5, 1),\n",
       " (1, 0),\n",
       " (3, 0),\n",
       " (1, 0),\n",
       " (5, 0),\n",
       " (2, 1)]"
      ]
     },
     "execution_count": 8,
     "metadata": {},
     "output_type": "execute_result"
    }
   ],
   "source": [
    "seq = SimuHMMdisc(n, params)\n",
    "seq"
   ]
  },
  {
   "cell_type": "code",
   "execution_count": 9,
   "metadata": {},
   "outputs": [
    {
     "name": "stdout",
     "output_type": "stream",
     "text": [
      "range(0, 10)\n"
     ]
    },
    {
     "data": {
      "image/png": "[encoded data removed]",
      "text/plain": [
       "<Figure size 640x480 with 2 Axes>"
      ]
     },
     "metadata": {},
     "output_type": "display_data"
    }
   ],
   "source": [
    "x, z = zip(*seq)\n",
    "x, z = list(x), list(z)\n",
    "plt.scatter(range(n), x, c=z, cmap='viridis', edgecolors='k')\n",
    "print(range(n))\n",
    "plt.colorbar(label='Hidden State')\n",
    "plt.xlabel('Time step')\n",
    "plt.ylabel('Observed State')\n",
    "plt.title('Simulated HMM with Discrete Emissions')\n",
    "plt.show()"
   ]
  },
  {
   "cell_type": "markdown",
   "metadata": {},
   "source": [
    "### Question 2. calcul de la vraisemblance - l’algorithme forward\n"
   ]
  },
  {
   "cell_type": "code",
   "execution_count": 10,
   "metadata": {},
   "outputs": [
    {
     "name": "stdout",
     "output_type": "stream",
     "text": [
      "0.0\n"
     ]
    },
    {
     "data": {
      "text/plain": [
       "-99999.59239403556"
      ]
     },
     "execution_count": 10,
     "metadata": {},
     "output_type": "execute_result"
    }
   ],
   "source": [
    "print(math.exp(-100001))\n",
    "\n",
    "#avoid overflowing part\n",
    "def log_sum_exp(x):\n",
    "    x_max = np.max(x)\n",
    "    return x_max + np.log(np.sum(np.exp(x - x_max)))\n",
    "\n",
    "log_sum_exp([-100000, -100001, -100002])"
   ]
  },
  {
   "cell_type": "code",
   "execution_count": 11,
   "metadata": {},
   "outputs": [],
   "source": [
    "# K = 4\n",
    "# nexp = 100  \n",
    "# mus = np.linspace(0, -1000, nexp) \n",
    "# res = pd.DataFrame({\n",
    "#     'mu': mus,\n",
    "#     'naive': np.nan,\n",
    "#     'log_trick': np.nan\n",
    "# })\n",
    "\n",
    "# for i in range(len(mus)):\n",
    "#     a = np.random.normal(loc=mus[i], scale=20, size=K)\n",
    "#     res.loc[i, 'naive'] = np.log(np.sum(np.exp(a)))\n",
    "#     res.loc[i, 'log_trick'] = log_sum_exp(a)\n",
    "\n",
    "# df = res.melt(id_vars='mu', var_name='Method', value_name='logsumexp')\n",
    "\n",
    "\n",
    "# sns.set(style=\"whitegrid\")\n",
    "# plt.figure(figsize=(10, 6))\n",
    "# ax = sns.scatterplot(data=df, x='mu', y='logsumexp', hue='Method', style='Method', s=100, alpha=0.7)\n",
    "# plt.plot([mus.min(), mus.max()], [mus.min(), mus.max()], 'k--')  # y=x line\n",
    "# plt.title('Illustration of the log-sum-exp trick')\n",
    "# plt.show()\n"
   ]
  },
  {
   "cell_type": "markdown",
   "metadata": {},
   "source": [
    "\n",
    "$$ \\alpha_i(k) = P(observe \\, sequence \\, up \\, until\\,  time \\, i \\, and \\, have \\, hidden \\, state \\, at \\, k)   $$ \n",
    "$$\n",
    "\\log(\\alpha_i(k)) = \\log \\left( \\sum_{l=1}^K \\alpha_{i-1}(l) \\cdot A_{lk} \\cdot \\Psi_i(k) \\right)\n",
    "$$\n",
    "$$\n",
    "\\log(\\alpha_i(k)) = \\log \\left( \\sum_{l=1}^K e^{\\log(\\alpha_{i-1}(l) \\cdot A_{lk})} \\cdot e^{\\log(\\Psi_i(k))} \\right)\n",
    "$$\n",
    "$$\n",
    "\\log(\\alpha_i(k)) = \\log \\left( \\sum_{l=1}^K e^{\\log(\\alpha_{i-1}(l)) + \\log(A_{lk})} \\cdot e^{\\log(\\Psi_i(k))} \\right)\n",
    "$$\n",
    "$$\n",
    "\\log(\\alpha_i(k)) = \\log(\\Psi_i(k)) + \\log \\left( \\sum_{l=1}^K e^{\\log(\\alpha_{i-1}(l)) + \\log(A_{lk})} \\right)\n",
    "$$"
   ]
  },
  {
   "cell_type": "markdown",
   "metadata": {},
   "source": [
    "$$ init: \\, \\alpha_1(l) = p(x_1, z_1 = l) = \\nu_l \\Psi_1(l), \\, \\forall l$$"
   ]
  },
  {
   "cell_type": "code",
   "execution_count": 12,
   "metadata": {},
   "outputs": [],
   "source": [
    "def forward(x, i, param):\n",
    "    \"\"\"return : log α_i s using log_trick\"\"\"\n",
    "    psi= np.array(param['B'])\n",
    "    A= np.array(param['A'])\n",
    "    nu= np.array(param['pi'])\n",
    "    K= len(A)\n",
    "    n= len(x)\n",
    "    #init:\n",
    "    log_alpha = np.full((n, K), -np.inf)\n",
    "    \n",
    "    for l in range(K):\n",
    "           \n",
    "        log_alpha[0, l] = np.log(nu[l]) + np.log(psi[l, x[0]])\n",
    "\n",
    "    for i in range(1,n):\n",
    "        for k in range(K):\n",
    "            # log_alpha_prev = np.log(log_alpha[i]) \n",
    "            exponent = log_alpha[i-1] + np.log(A[:,k])\n",
    "            # print(log_alpha[i-1] )\n",
    "            log_alpha[i, k] = np.log(psi[k, x[i]]) + log_sum_exp(exponent)\n",
    "\n",
    "\n",
    "\n",
    "    # return log_alpha\n",
    "    return log_alpha[i-1] "
   ]
  },
  {
   "cell_type": "code",
   "execution_count": 13,
   "metadata": {},
   "outputs": [
    {
     "data": {
      "text/plain": [
       "array([-16.51004152, -16.81154151])"
      ]
     },
     "execution_count": 13,
     "metadata": {},
     "output_type": "execute_result"
    }
   ],
   "source": [
    "logalpha_10 = forward(x, 10, params)\n",
    "logalpha_10 # hidden state at time i is 2?!"
   ]
  },
  {
   "cell_type": "code",
   "execution_count": 14,
   "metadata": {},
   "outputs": [
    {
     "data": {
      "text/plain": [
       "1"
      ]
     },
     "execution_count": 14,
     "metadata": {},
     "output_type": "execute_result"
    }
   ],
   "source": [
    "z[9]"
   ]
  },
  {
   "cell_type": "markdown",
   "metadata": {},
   "source": [
    "Une fonction HMMloglik(x, param) qui calcule la log-vraisemblance de x sous un modèle HMM discret"
   ]
  },
  {
   "cell_type": "code",
   "execution_count": 15,
   "metadata": {},
   "outputs": [],
   "source": [
    "def HMMloglik(x, param):\n",
    "    K= np.array(param['A']).shape[0]\n",
    "    sum = 0\n",
    "    for k in range(K):\n",
    "        sum+= forward(x, k, param)\n",
    "    return np.log(sum)"
   ]
  },
  {
   "cell_type": "code",
   "execution_count": 16,
   "metadata": {},
   "outputs": [],
   "source": [
    "def Viterbi(x, param):\n",
    "\n",
    "    psi= np.array(param['B'])\n",
    "    A= np.array(param['A'])\n",
    "    nu= np.array(param['pi'])\n",
    "    K= len(A)\n",
    "    n= len(x)\n",
    "    #init:\n",
    "    \n",
    "    print(psi.shape)\n",
    "    V = np.full((n, K), -np.inf)\n",
    "    S = np.full((n, K), -np.inf)\n",
    "\n",
    "   \n",
    "    \n",
    "    for l in range(K):\n",
    "        V[0, l] = np.log(nu[l]) + np.log(psi[l, x[0]])\n",
    "\n",
    "    for i in range(1,n):\n",
    "        for k in range(K):\n",
    "            # print(V[i-1,:])\n",
    "            V[i, k]= psi[k, x[i]] + np.max(V[i-1,:] * np.log(A[:,k]))\n",
    "            S[i,k ]= np.argmax(V[i-1,:]* np.log(A[:,k]))\n",
    "    print(V, S)\n",
    "    return \n",
    "\n",
    "\n",
    "\n",
    "    "
   ]
  },
  {
   "cell_type": "code",
   "execution_count": 17,
   "metadata": {},
   "outputs": [
    {
     "name": "stdout",
     "output_type": "stream",
     "text": [
      "(2, 6)\n",
      "[[-2.19722458 -3.40119738]\n",
      " [ 7.99821306  7.08229658]\n",
      " [-0.24358803 -0.64619442]\n",
      " [ 1.6545843   0.82972452]\n",
      " [ 0.08179759  0.4125798 ]\n",
      " [ 0.162471    0.05653038]\n",
      " [ 0.15833299  0.09404393]\n",
      " [ 0.15854525  0.09009148]\n",
      " [ 0.15853436  0.49050791]\n",
      " [ 0.15853492  0.04831983]] [[-inf -inf]\n",
      " [  1.   0.]\n",
      " [  0.   1.]\n",
      " [  1.   0.]\n",
      " [  0.   1.]\n",
      " [  0.   1.]\n",
      " [  0.   1.]\n",
      " [  0.   1.]\n",
      " [  0.   1.]\n",
      " [  0.   1.]]\n"
     ]
    }
   ],
   "source": [
    "Viterbi(x, params)"
   ]
  },
  {
   "cell_type": "code",
   "execution_count": 18,
   "metadata": {},
   "outputs": [],
   "source": [
    "def forward_estep(x, i, param):\n",
    "    \"\"\"return : log α_i s using log_trick\"\"\"\n",
    "    psi= np.array(param['B'])\n",
    "    A= np.array(param['A'])\n",
    "    nu= np.array(param['pi'])\n",
    "    K= len(A)\n",
    "    n= len(x)\n",
    "    #init:\n",
    "    log_alpha = np.full((n, K), -np.inf)\n",
    "    \n",
    "    for l in range(K):\n",
    "        log_alpha[0, l] = np.log(nu[l]) + np.log(psi[l, x[0]])\n",
    "\n",
    "    for i in range(1,n):\n",
    "        for l in range(K):\n",
    "            # log_alpha_prev = np.log(log_alpha[i]) \n",
    "            exponent = log_alpha[i-1] + np.log(A[:,l])\n",
    "            # print(log_alpha[i-1] )\n",
    "            log_alpha[i, l] = np.log(psi[l, x[i]]) + log_sum_exp(exponent)\n",
    "\n",
    "\n",
    "\n",
    "    return log_alpha.T\n",
    "  "
   ]
  },
  {
   "cell_type": "code",
   "execution_count": 19,
   "metadata": {},
   "outputs": [
    {
     "data": {
      "text/plain": [
       "array([[ -2.19722458,  -4.00918675,  -5.75410158,  -7.54252679,\n",
       "         -9.35275818, -11.09338845, -12.87974206, -14.6889025 ,\n",
       "        -16.51004152, -18.27811299],\n",
       "       [ -3.40119738,  -4.02980604,  -6.38258854,  -8.69145473,\n",
       "         -9.32846693, -11.6836092 , -13.9960231 , -16.24727473,\n",
       "        -16.81154151, -19.14706904]])"
      ]
     },
     "execution_count": 19,
     "metadata": {},
     "output_type": "execute_result"
    }
   ],
   "source": [
    "forward_estep(x, 10, params)"
   ]
  },
  {
   "cell_type": "markdown",
   "metadata": {},
   "source": [
    "1. **Standard Form:**\n",
    "\n",
    "$$\n",
    "\\beta_i(k) = \\sum_{l=1}^{K} A[k, l] \\cdot B[l, x_{i+1}] \\cdot \\beta_{i+1}(l)\n",
    "$$\n",
    "\n",
    "2. **Log-Space Form:**\n",
    "\n",
    "$$\n",
    "\\log \\beta_i(k) = \\log \\sum_{l=1}^{K} \\exp\\left(\\log A[k, l] + \\log B[l, x_{i+1}] + \\log \\beta_{i+1}(l)\\right)\n",
    "$$\n"
   ]
  },
  {
   "cell_type": "code",
   "execution_count": 20,
   "metadata": {},
   "outputs": [],
   "source": [
    "def backward(x, param):\n",
    "    psi= np.array(param['B'])\n",
    "    A= np.array(param['A'])\n",
    "    # nu= np.array(param['pi'])\n",
    "    K= len(A)\n",
    "    n= len(x)\n",
    "    #init:\n",
    "    log_beta = np.full((n, K), -np.inf)\n",
    "    for l in range(K):\n",
    "        log_beta[-1, l] = 0 #b_n(k)=1\n",
    "    \n",
    "    for i in range(n-2,-1, -1):\n",
    "        # print(i)\n",
    "        for l in range(K):\n",
    "            exponent= np.log(A[l, :]) + np.log(psi[:, x[i + 1]]) + log_beta[i + 1]\n",
    "            log_beta[i, l]= log_sum_exp(exponent)\n",
    "    return log_beta.T\n",
    "\n",
    "    \n",
    "    \n",
    "    "
   ]
  },
  {
   "cell_type": "code",
   "execution_count": 21,
   "metadata": {},
   "outputs": [
    {
     "data": {
      "text/plain": [
       "array([[-16.12046863, -14.36396975, -12.5473798 , -10.74678741,\n",
       "         -8.97724543,  -7.15553361,  -5.34530222,  -3.55687701,\n",
       "         -1.81196218,   0.        ],\n",
       "       [-15.6573732 , -14.92154214, -12.71086954, -10.42940153,\n",
       "         -9.70476135,  -7.53670746,  -5.29025734,  -2.98139116,\n",
       "         -2.23804657,   0.        ]])"
      ]
     },
     "execution_count": 21,
     "metadata": {},
     "output_type": "execute_result"
    }
   ],
   "source": [
    "backward(x, params)"
   ]
  },
  {
   "cell_type": "markdown",
   "metadata": {},
   "source": [
    "$$\n",
    "\\tau_i(k) \\propto \\alpha_i(k) \\beta_i(k),\n",
    "$$\n",
    "$$\n",
    "\\log \\tau_i(k) = \\log \\alpha_i(k) + \\log \\beta_i(k) + \\text{normalization constant (log-sum-exp trick)},\n",
    "$$\n",
    "$$\\xi_{i,i+1}(k, l) \\propto \\alpha_i(k) \\Psi_{i+1}(l) \\beta_{i+1}(l) A_{kl}.$$"
   ]
  },
  {
   "cell_type": "code",
   "execution_count": 22,
   "metadata": {},
   "outputs": [],
   "source": [
    "def estep(x, param):\n",
    "    A= np.array(param['A'])\n",
    "    K= len(A)\n",
    "    n= len(x)\n",
    "    log_alphas= forward_estep(x,n, param)\n",
    "    log_betas= backward(x, param)\n",
    "    psi= np.array(param['B'])\n",
    "    \n",
    "\n",
    "\n",
    "    log_taus = np.full((K, n), -np.inf)\n",
    "    log_transitions = np.full((K, K, n-1), -np.inf)\n",
    "    #init transitions\n",
    "\n",
    "    log_unnormalized_taus = log_alphas + log_betas\n",
    "    for i in range(n):\n",
    "        log_taus[:, i] = log_unnormalized_taus[:, i] - log_sum_exp(log_unnormalized_taus[:, i])  \n",
    "\n",
    "\n",
    "\n",
    "    for i in range(n-1):\n",
    "        for k in range(K):\n",
    "            for l in range(K):\n",
    "                log_transitions[k, l, i] = ( log_alphas[k, i] +  np.log(A[k, l]) + np.log(psi[l, x[i + 1]]) +  log_betas[l, i + 1])\n",
    "                log_transitions[:, :, i] -= log_sum_exp(log_transitions[:, :, i])  # Normalize\n",
    " \n",
    "    return log_taus, log_transitions\n"
   ]
  },
  {
   "cell_type": "code",
   "execution_count": 23,
   "metadata": {},
   "outputs": [
    {
     "data": {
      "text/plain": [
       "(array([[-0.38980682, -0.44527011, -0.37359499, -0.36142781, -0.40211722,\n",
       "         -0.32103566, -0.29715788, -0.31789312, -0.3941173 , -0.3502266 ],\n",
       "        [-1.13068419, -1.02346179, -1.16557168, -1.19296986, -1.10534189,\n",
       "         -1.29243026, -1.35839405, -1.30077949, -1.12170169, -1.21918265]]),\n",
       " array([[[-6.20314442e-09, -6.15599081e-09, -5.57123657e-09,\n",
       "          -5.77321700e-09, -5.65087375e-09, -4.87831796e-09,\n",
       "          -4.85448924e-09, -5.57097389e-09, -5.66961099e-09],\n",
       "         [-2.08076462e+01, -2.20183737e+01, -2.14818205e+01,\n",
       "          -2.09361676e+01, -2.21877830e+01, -2.16819632e+01,\n",
       "          -2.11594506e+01, -2.06158285e+01, -2.18083589e+01]],\n",
       " \n",
       "        [[-2.18595117e+01, -2.06715304e+01, -2.12237205e+01,\n",
       "          -2.17630447e+01, -2.05783451e+01, -2.11232560e+01,\n",
       "          -2.16472447e+01, -2.21535815e+01, -2.09058861e+01],\n",
       "         [-1.91212472e+01, -1.91486212e+01, -1.92199357e+01,\n",
       "          -1.91947238e+01, -1.92731200e+01, -1.93818122e+01,\n",
       "          -1.93853599e+01, -1.92838290e+01, -1.92194871e+01]]]))"
      ]
     },
     "execution_count": 23,
     "metadata": {},
     "output_type": "execute_result"
    }
   ],
   "source": [
    "smoothed_posteriors = estep(x, params)\n",
    "smoothed_posteriors"
   ]
  },
  {
   "cell_type": "code",
   "execution_count": 24,
   "metadata": {},
   "outputs": [],
   "source": [
    "def mstep(x, smoothed_post): \n",
    "    \n",
    "    #init theta \n",
    "    log_taus, log_transitions = smoothed_post\n",
    "    K, n = log_taus.shape\n",
    "    taus = np.exp(log_taus)\n",
    "    transitions = np.exp(log_transitions)\n",
    "\n",
    "    nu = taus[:, 0] / np.sum(taus[:, 0]) \n",
    "    A = np.sum(transitions, axis=2)\n",
    "    A /= np.sum(A, axis=1, keepdims=True)\n",
    "\n",
    "    print(A)\n",
    "    print(transitions.shape)\n",
    "    M = np.max(x) + 1  # nb unique possible  obs (give its 0-indexed)\n",
    "    Psi = np.zeros((K, M))\n",
    "    for k in range(K):\n",
    "        for m in range(M):\n",
    "            # print(\"taus[k]:\", taus[k])\n",
    "            # print(\"x == m for m =\", m, \":\", np.where(x == m))\n",
    "            Psi[k, m] = np.sum(taus[k, np.where(x == m)])  + 1e-10\n",
    "    Psi /= np.sum(Psi, axis=1, keepdims=True) + 1e-10\n",
    "\n",
    "    return nu, A, Psi\n",
    "    \n"
   ]
  },
  {
   "cell_type": "code",
   "execution_count": 25,
   "metadata": {},
   "outputs": [
    {
     "name": "stdout",
     "output_type": "stream",
     "text": [
      "[[9.99999999e-01 5.75766624e-10]\n",
      " [1.24694135e-01 8.75305865e-01]]\n",
      "(2, 2, 9)\n"
     ]
    },
    {
     "data": {
      "text/plain": [
       "(array([0.67718768, 0.32281232]),\n",
       " array([[9.99999999e-01, 5.75766624e-10],\n",
       "        [1.24694135e-01, 8.75305865e-01]]),\n",
       " array([[0.14285714, 0.14285714, 0.14285714, 0.14285714, 0.14285714,\n",
       "         0.14285714],\n",
       "        [0.14285714, 0.14285714, 0.14285714, 0.14285714, 0.14285714,\n",
       "         0.14285714]]))"
      ]
     },
     "execution_count": 25,
     "metadata": {},
     "output_type": "execute_result"
    }
   ],
   "source": [
    "mstep(x, smoothed_posteriors)"
   ]
  },
  {
   "cell_type": "code",
   "execution_count": 26,
   "metadata": {},
   "outputs": [],
   "source": [
    "def baum_welch(x, init_param, max_it=100, atol=1e-6):\n",
    "    \"\"\"\n",
    "    Args:\n",
    "        x: Observed seq\n",
    "        init_param: (nu_0, A_0, psi_0)\n",
    "        tol: Convergence tolerance for log-likelihood.\n",
    "\n",
    "    \"\"\"\n",
    "    # print(init_param)\n",
    "    nu, A, Psi = init_param['pi'], init_param['A'], init_param['B']\n",
    "    prev_log_likelihood = -np.inf\n",
    "    param_differences = [] \n",
    "\n",
    "    for iteration in range(max_it):\n",
    "        prev_nu, prev_A, prev_Psi = nu.copy(), A.copy(), Psi.copy()\n",
    "\n",
    "        # E-step\n",
    "        smoothed_posteriors = estep(x, {'pi': nu, 'A': A, 'B': Psi})\n",
    "\n",
    "        # M-step\n",
    "        nu, A, Psi = mstep(x, smoothed_posteriors)\n",
    "\n",
    "        \n",
    "        diff_nu = np.linalg.norm(nu - prev_nu) \n",
    "        diff_A = np.linalg.norm(A - prev_A)   \n",
    "        diff_Psi = np.linalg.norm(Psi - prev_Psi)  \n",
    "        param_diff = diff_nu + diff_A + diff_Psi \n",
    "        param_differences.append(param_diff)  \n",
    "\n",
    "\n",
    "        log_likelihood = HMMloglik(x, {'pi': nu, 'A': A, 'B': Psi})\n",
    "        if np.abs(log_likelihood - prev_log_likelihood) < atol:\n",
    "            break\n",
    "        prev_log_likelihood = log_likelihood\n",
    "\n",
    "    return nu, A, Psi, param_differences\n"
   ]
  },
  {
   "cell_type": "code",
   "execution_count": 27,
   "metadata": {},
   "outputs": [
    {
     "ename": "ValueError",
     "evalue": "setting an array element with a sequence.",
     "output_type": "error",
     "traceback": [
      "\u001b[0;31m---------------------------------------------------------------------------\u001b[0m",
      "\u001b[0;31mTypeError\u001b[0m                                 Traceback (most recent call last)",
      "\u001b[0;31mTypeError\u001b[0m: only size-1 arrays can be converted to Python scalars",
      "\nThe above exception was the direct cause of the following exception:\n",
      "\u001b[0;31mValueError\u001b[0m                                Traceback (most recent call last)",
      "Cell \u001b[0;32mIn[27], line 48\u001b[0m\n\u001b[1;32m     42\u001b[0m init_param \u001b[38;5;241m=\u001b[39m perturbate_initial_params(true_params)\n\u001b[1;32m     45\u001b[0m max_it \u001b[38;5;241m=\u001b[39m \u001b[38;5;241m50\u001b[39m\n\u001b[0;32m---> 48\u001b[0m res \u001b[38;5;241m=\u001b[39m \u001b[43mbaum_welch\u001b[49m\u001b[43m(\u001b[49m\u001b[43mseq\u001b[49m\u001b[43m,\u001b[49m\u001b[43m \u001b[49m\u001b[43minit_param\u001b[49m\u001b[43m,\u001b[49m\u001b[43m \u001b[49m\u001b[43mmax_it\u001b[49m\u001b[38;5;241;43m=\u001b[39;49m\u001b[43mmax_it\u001b[49m\u001b[43m,\u001b[49m\u001b[43m \u001b[49m\u001b[43matol\u001b[49m\u001b[38;5;241;43m=\u001b[39;49m\u001b[38;5;241;43m1e-6\u001b[39;49m\u001b[43m)\u001b[49m\n",
      "Cell \u001b[0;32mIn[26], line 18\u001b[0m, in \u001b[0;36mbaum_welch\u001b[0;34m(x, init_param, max_it, atol)\u001b[0m\n\u001b[1;32m     15\u001b[0m prev_nu, prev_A, prev_Psi \u001b[38;5;241m=\u001b[39m nu\u001b[38;5;241m.\u001b[39mcopy(), A\u001b[38;5;241m.\u001b[39mcopy(), Psi\u001b[38;5;241m.\u001b[39mcopy()\n\u001b[1;32m     17\u001b[0m \u001b[38;5;66;03m# E-step\u001b[39;00m\n\u001b[0;32m---> 18\u001b[0m smoothed_posteriors \u001b[38;5;241m=\u001b[39m \u001b[43mestep\u001b[49m\u001b[43m(\u001b[49m\u001b[43mx\u001b[49m\u001b[43m,\u001b[49m\u001b[43m \u001b[49m\u001b[43m{\u001b[49m\u001b[38;5;124;43m'\u001b[39;49m\u001b[38;5;124;43mpi\u001b[39;49m\u001b[38;5;124;43m'\u001b[39;49m\u001b[43m:\u001b[49m\u001b[43m \u001b[49m\u001b[43mnu\u001b[49m\u001b[43m,\u001b[49m\u001b[43m \u001b[49m\u001b[38;5;124;43m'\u001b[39;49m\u001b[38;5;124;43mA\u001b[39;49m\u001b[38;5;124;43m'\u001b[39;49m\u001b[43m:\u001b[49m\u001b[43m \u001b[49m\u001b[43mA\u001b[49m\u001b[43m,\u001b[49m\u001b[43m \u001b[49m\u001b[38;5;124;43m'\u001b[39;49m\u001b[38;5;124;43mB\u001b[39;49m\u001b[38;5;124;43m'\u001b[39;49m\u001b[43m:\u001b[49m\u001b[43m \u001b[49m\u001b[43mPsi\u001b[49m\u001b[43m}\u001b[49m\u001b[43m)\u001b[49m\n\u001b[1;32m     20\u001b[0m \u001b[38;5;66;03m# M-step\u001b[39;00m\n\u001b[1;32m     21\u001b[0m nu, A, Psi \u001b[38;5;241m=\u001b[39m mstep(x, smoothed_posteriors)\n",
      "Cell \u001b[0;32mIn[22], line 5\u001b[0m, in \u001b[0;36mestep\u001b[0;34m(x, param)\u001b[0m\n\u001b[1;32m      3\u001b[0m K\u001b[38;5;241m=\u001b[39m \u001b[38;5;28mlen\u001b[39m(A)\n\u001b[1;32m      4\u001b[0m n\u001b[38;5;241m=\u001b[39m \u001b[38;5;28mlen\u001b[39m(x)\n\u001b[0;32m----> 5\u001b[0m log_alphas\u001b[38;5;241m=\u001b[39m \u001b[43mforward_estep\u001b[49m\u001b[43m(\u001b[49m\u001b[43mx\u001b[49m\u001b[43m,\u001b[49m\u001b[43mn\u001b[49m\u001b[43m,\u001b[49m\u001b[43m \u001b[49m\u001b[43mparam\u001b[49m\u001b[43m)\u001b[49m\n\u001b[1;32m      6\u001b[0m log_betas\u001b[38;5;241m=\u001b[39m backward(x, param)\n\u001b[1;32m      7\u001b[0m psi\u001b[38;5;241m=\u001b[39m np\u001b[38;5;241m.\u001b[39marray(param[\u001b[38;5;124m'\u001b[39m\u001b[38;5;124mB\u001b[39m\u001b[38;5;124m'\u001b[39m])\n",
      "Cell \u001b[0;32mIn[18], line 12\u001b[0m, in \u001b[0;36mforward_estep\u001b[0;34m(x, i, param)\u001b[0m\n\u001b[1;32m      9\u001b[0m log_alpha \u001b[38;5;241m=\u001b[39m np\u001b[38;5;241m.\u001b[39mfull((n, K), \u001b[38;5;241m-\u001b[39mnp\u001b[38;5;241m.\u001b[39minf)\n\u001b[1;32m     11\u001b[0m \u001b[38;5;28;01mfor\u001b[39;00m l \u001b[38;5;129;01min\u001b[39;00m \u001b[38;5;28mrange\u001b[39m(K):\n\u001b[0;32m---> 12\u001b[0m     \u001b[43mlog_alpha\u001b[49m\u001b[43m[\u001b[49m\u001b[38;5;241;43m0\u001b[39;49m\u001b[43m,\u001b[49m\u001b[43m \u001b[49m\u001b[43ml\u001b[49m\u001b[43m]\u001b[49m \u001b[38;5;241m=\u001b[39m np\u001b[38;5;241m.\u001b[39mlog(nu[l]) \u001b[38;5;241m+\u001b[39m np\u001b[38;5;241m.\u001b[39mlog(psi[l, x[\u001b[38;5;241m0\u001b[39m]])\n\u001b[1;32m     14\u001b[0m \u001b[38;5;28;01mfor\u001b[39;00m i \u001b[38;5;129;01min\u001b[39;00m \u001b[38;5;28mrange\u001b[39m(\u001b[38;5;241m1\u001b[39m,n):\n\u001b[1;32m     15\u001b[0m     \u001b[38;5;28;01mfor\u001b[39;00m l \u001b[38;5;129;01min\u001b[39;00m \u001b[38;5;28mrange\u001b[39m(K):\n\u001b[1;32m     16\u001b[0m         \u001b[38;5;66;03m# log_alpha_prev = np.log(log_alpha[i]) \u001b[39;00m\n",
      "\u001b[0;31mValueError\u001b[0m: setting an array element with a sequence."
     ]
    }
   ],
   "source": [
    "# Random initialization (bad idea, avoid if possible)\n",
    "def random_init(K, J):\n",
    "    init_param = {}\n",
    "    init_param['pi'] = np.full(K, 1 / K)  # Uniform distribution\n",
    "    init_param['A'] = np.random.rand(K, K)  # Random transition matrix\n",
    "    init_param['A'] /= np.sum(init_param['A'], axis=1, keepdims=True)  # Normalize rows\n",
    "    init_param['B'] = np.random.rand(K, J)  # Random emission matrix\n",
    "    init_param['B'] /= np.sum(init_param['B'], axis=1, keepdims=True)  # Normalize rows\n",
    "    return init_param\n",
    "\n",
    "# Function to add small noise to parameters\n",
    "def perturbate_matrix(X, noise=5e-3):\n",
    "    \"\"\"\n",
    "    Adds small perturbations to the given matrix X to simulate noisy initialization.\n",
    "    \"\"\"\n",
    "    X_pert = X + np.abs(np.random.normal(0, noise, X.shape))  # Add small positive noise\n",
    "    X_pert /= np.sum(X_pert, axis=1, keepdims=True)  # Normalize rows to enforce valid probabilities\n",
    "    return X_pert\n",
    "\n",
    "# Small perturbation from initial parameters\n",
    "def perturbate_initial_params(true_params):\n",
    "    \"\"\"\n",
    "    Perturbates the initial parameters based on the true parameters.\n",
    "    \"\"\"\n",
    "    init_param = {}\n",
    "    init_param['pi'] = true_params['pi']  # No perturbation for initial state probabilities\n",
    "    init_param['A'] = perturbate_matrix(true_params['A'], noise=5e-3)  # Add noise to A\n",
    "    init_param['B'] = perturbate_matrix(true_params['B'], noise=5e-3)  # Add noise to B\n",
    "    return init_param\n",
    "\n",
    "# Example usage:\n",
    "K = 3  # Number of states\n",
    "J = 4  # Number of possible observations\n",
    "\n",
    "# Assuming `true_params` is given\n",
    "true_params = {\n",
    "    'pi': np.array([0.6, 0.3, 0.1]),  # True initial probabilities\n",
    "    'A': np.array([[0.7, 0.2, 0.1], [0.3, 0.4, 0.3], [0.2, 0.3, 0.5]]),  # True transition matrix\n",
    "    'B': np.array([[0.5, 0.4, 0.1, 0.0], [0.1, 0.3, 0.5, 0.1], [0.2, 0.2, 0.3, 0.3]])  # True emission matrix\n",
    "}\n",
    "\n",
    "init_param = perturbate_initial_params(true_params)\n",
    "\n",
    "\n",
    "max_it = 50\n",
    "\n",
    "\n",
    "res = baum_welch(seq, init_param, max_it=max_it, atol=1e-6)\n"
   ]
  },
  {
   "cell_type": "code",
   "execution_count": null,
   "metadata": {},
   "outputs": [],
   "source": []
  },
  {
   "cell_type": "code",
   "execution_count": null,
   "metadata": {},
   "outputs": [],
   "source": []
  }
 ],
 "metadata": {
  "kernelspec": {
   "display_name": "Python 3",
   "language": "python",
   "name": "python3"
  },
  "language_info": {
   "codemirror_mode": {
    "name": "ipython",
    "version": 3
   },
   "file_extension": ".py",
   "mimetype": "text/x-python",
   "name": "python",
   "nbconvert_exporter": "python",
   "pygments_lexer": "ipython3",
   "version": "3.11.6"
  }
 },
 "nbformat": 4,
 "nbformat_minor": 2
}
