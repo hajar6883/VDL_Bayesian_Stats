{
 "cells": [
  {
   "cell_type": "markdown",
   "metadata": {},
   "source": [
    "## Practical VDL class session for Hidden Markov Models: forward, Viterbi & Baum-Walch algorithms\n"
   ]
  },
  {
   "cell_type": "code",
   "execution_count": 1,
   "metadata": {},
   "outputs": [],
   "source": [
    "import numpy as np\n",
    "import matplotlib.pyplot as plt\n",
    "import math\n",
    "import seaborn as sns\n",
    "import random as random\n",
    "import pandas as pd\n",
    "random.seed(42)"
   ]
  },
  {
   "cell_type": "markdown",
   "metadata": {},
   "source": [
    "### Question 1 : simulation d’un HMM\n"
   ]
  },
  {
   "cell_type": "code",
   "execution_count": 2,
   "metadata": {},
   "outputs": [],
   "source": [
    "def SimuHMMdisc(n, param):\n",
    "\n",
    "    nu = np.array(param['pi'])\n",
    "   \n",
    "    B= np.array(param['B'])\n",
    "    A= np.array(param['A']) \n",
    "\n",
    "    z = np.zeros(n, dtype=int)\n",
    "    x = np.zeros(n, dtype=int)\n",
    "    \n",
    "    #sample first hidden state and first observation\n",
    "    z[0] = np.random.choice(len(nu), p = nu) \n",
    "    print(z)\n",
    "    x[0] = np.random.choice(len(B[z[0]]), p=B[z[0]])\n",
    "    print(x)\n",
    " \n",
    "    for i in range(1,n):\n",
    "        z[i]= np.random.choice( len(nu), p=A[z[i-1]])\n",
    "        print(z)\n",
    "        x[i] = np.random.choice(len(B[z[i]]), p= B[z[i]])\n",
    "        print(x)\n",
    "\n",
    "  \n",
    "    sequence = list(zip(x, z))\n",
    "    \n",
    "    return sequence \n"
   ]
  },
  {
   "cell_type": "code",
   "execution_count": 3,
   "metadata": {},
   "outputs": [],
   "source": [
    "n = int(10)"
   ]
  },
  {
   "cell_type": "code",
   "execution_count": 4,
   "metadata": {},
   "outputs": [
    {
     "data": {
      "text/plain": [
       "{'A': array([[0.95, 0.05],\n",
       "        [0.1 , 0.9 ]]),\n",
       " 'B': array([[0.16666667, 0.16666667, 0.16666667, 0.16666667, 0.16666667,\n",
       "         0.16666667],\n",
       "        [0.1       , 0.1       , 0.1       , 0.1       , 0.1       ,\n",
       "         0.5       ]]),\n",
       " 'pi': array([0.66666667, 0.33333333])}"
      ]
     },
     "execution_count": 4,
     "metadata": {},
     "output_type": "execute_result"
    }
   ],
   "source": [
    "# Transition Matrix A for the hidden states\n",
    "A = np.array([\n",
    "    [0.95, 0.05],\n",
    "    [0.10, 0.90]\n",
    "])\n",
    "\n",
    "# Emission Matrix B\n",
    "# Rows correspond to hidden states, columns to observable outcomes\n",
    "# B = np.transpose(np.array([\n",
    "#     [1/6]*6 + [1/10]*5 + [0.5],\n",
    "#     [1/6]*6 + [1/10]*5 + [0.5]\n",
    "# ])).reshape(6, 2)\n",
    "B = np.array([\n",
    "    [1/6, 1/6, 1/6, 1/6, 1/6, 1/6],  # Uniform distribution over 6 outcomes for state 0\n",
    "    [1/10, 1/10, 1/10, 1/10, 1/10, 0.5]  # Different distribution for state 1\n",
    "])\n",
    "\n",
    "eigenvalues, eigenvectors = np.linalg.eig(A.T)\n",
    "pi_vector = eigenvectors[:, np.isclose(eigenvalues, 1)]\n",
    "pi_real = np.real(pi_vector)\n",
    "pi = pi_real / np.sum(pi_real)\n",
    "\n",
    "params = {\n",
    "    'A': A,\n",
    "    'B': B,\n",
    "    'pi': pi.flatten()  \n",
    "}\n",
    "params\n"
   ]
  },
  {
   "cell_type": "code",
   "execution_count": 5,
   "metadata": {},
   "outputs": [
    {
     "name": "stdout",
     "output_type": "stream",
     "text": [
      "[0 0 0 0 0 0 0 0 0 0]\n",
      "[5 0 0 0 0 0 0 0 0 0]\n",
      "[0 0 0 0 0 0 0 0 0 0]\n",
      "[5 0 0 0 0 0 0 0 0 0]\n",
      "[0 0 0 0 0 0 0 0 0 0]\n",
      "[5 0 4 0 0 0 0 0 0 0]\n",
      "[0 0 0 0 0 0 0 0 0 0]\n",
      "[5 0 4 2 0 0 0 0 0 0]\n",
      "[0 0 0 0 1 0 0 0 0 0]\n",
      "[5 0 4 2 5 0 0 0 0 0]\n",
      "[0 0 0 0 1 1 0 0 0 0]\n",
      "[5 0 4 2 5 0 0 0 0 0]\n",
      "[0 0 0 0 1 1 1 0 0 0]\n",
      "[5 0 4 2 5 0 5 0 0 0]\n",
      "[0 0 0 0 1 1 1 0 0 0]\n",
      "[5 0 4 2 5 0 5 5 0 0]\n",
      "[0 0 0 0 1 1 1 0 0 0]\n",
      "[5 0 4 2 5 0 5 5 4 0]\n",
      "[0 0 0 0 1 1 1 0 0 0]\n",
      "[5 0 4 2 5 0 5 5 4 2]\n"
     ]
    },
    {
     "data": {
      "text/plain": [
       "[(5, 0),\n",
       " (0, 0),\n",
       " (4, 0),\n",
       " (2, 0),\n",
       " (5, 1),\n",
       " (0, 1),\n",
       " (5, 1),\n",
       " (5, 0),\n",
       " (4, 0),\n",
       " (2, 0)]"
      ]
     },
     "execution_count": 5,
     "metadata": {},
     "output_type": "execute_result"
    }
   ],
   "source": [
    "seq = SimuHMMdisc(n, params)\n",
    "seq"
   ]
  },
  {
   "cell_type": "code",
   "execution_count": 6,
   "metadata": {},
   "outputs": [
    {
     "name": "stdout",
     "output_type": "stream",
     "text": [
      "range(0, 10)\n"
     ]
    },
    {
     "data": {
      "image/png": "[encoded data removed]",
      "text/plain": [
       "<Figure size 640x480 with 2 Axes>"
      ]
     },
     "metadata": {},
     "output_type": "display_data"
    }
   ],
   "source": [
    "x, z = zip(*seq)\n",
    "x, z = list(x), list(z)\n",
    "plt.scatter(range(n), x, c=z, cmap='viridis', edgecolors='k')\n",
    "print(range(n))\n",
    "plt.colorbar(label='Hidden State')\n",
    "plt.xlabel('Time step')\n",
    "plt.ylabel('Observed State')\n",
    "plt.title('Simulated HMM with Discrete Emissions')\n",
    "plt.show()"
   ]
  },
  {
   "cell_type": "markdown",
   "metadata": {},
   "source": [
    "### Question 2. calcul de la vraisemblance - l’algorithme forward\n"
   ]
  },
  {
   "cell_type": "code",
   "execution_count": 7,
   "metadata": {},
   "outputs": [
    {
     "name": "stdout",
     "output_type": "stream",
     "text": [
      "0.0\n"
     ]
    },
    {
     "data": {
      "text/plain": [
       "-99999.59239403556"
      ]
     },
     "execution_count": 7,
     "metadata": {},
     "output_type": "execute_result"
    }
   ],
   "source": [
    "print(math.exp(-100001))\n",
    "\n",
    "#avoid overflowing part\n",
    "def log_sum_exp(x):\n",
    "    x_max = np.max(x)\n",
    "    return x_max + np.log(np.sum(np.exp(x - x_max)))\n",
    "\n",
    "log_sum_exp([-100000, -100001, -100002])"
   ]
  },
  {
   "cell_type": "code",
   "execution_count": 8,
   "metadata": {},
   "outputs": [],
   "source": [
    "# K = 4\n",
    "# nexp = 100  \n",
    "# mus = np.linspace(0, -1000, nexp) \n",
    "# res = pd.DataFrame({\n",
    "#     'mu': mus,\n",
    "#     'naive': np.nan,\n",
    "#     'log_trick': np.nan\n",
    "# })\n",
    "\n",
    "# for i in range(len(mus)):\n",
    "#     a = np.random.normal(loc=mus[i], scale=20, size=K)\n",
    "#     res.loc[i, 'naive'] = np.log(np.sum(np.exp(a)))\n",
    "#     res.loc[i, 'log_trick'] = log_sum_exp(a)\n",
    "\n",
    "# df = res.melt(id_vars='mu', var_name='Method', value_name='logsumexp')\n",
    "\n",
    "\n",
    "# sns.set(style=\"whitegrid\")\n",
    "# plt.figure(figsize=(10, 6))\n",
    "# ax = sns.scatterplot(data=df, x='mu', y='logsumexp', hue='Method', style='Method', s=100, alpha=0.7)\n",
    "# plt.plot([mus.min(), mus.max()], [mus.min(), mus.max()], 'k--')  # y=x line\n",
    "# plt.title('Illustration of the log-sum-exp trick')\n",
    "# plt.show()\n"
   ]
  },
  {
   "cell_type": "markdown",
   "metadata": {},
   "source": [
    "\n",
    "$$ \\alpha_i(k) = P(observe \\, sequence \\, up \\, until\\,  time \\, i \\, and \\, have \\, hidden \\, state \\, at \\, k)   $$ \n",
    "$$\n",
    "\\log(\\alpha_i(k)) = \\log \\left( \\sum_{l=1}^K \\alpha_{i-1}(l) \\cdot A_{lk} \\cdot \\Psi_i(k) \\right)\n",
    "$$\n",
    "$$\n",
    "\\log(\\alpha_i(k)) = \\log \\left( \\sum_{l=1}^K e^{\\log(\\alpha_{i-1}(l) \\cdot A_{lk})} \\cdot e^{\\log(\\Psi_i(k))} \\right)\n",
    "$$\n",
    "$$\n",
    "\\log(\\alpha_i(k)) = \\log \\left( \\sum_{l=1}^K e^{\\log(\\alpha_{i-1}(l)) + \\log(A_{lk})} \\cdot e^{\\log(\\Psi_i(k))} \\right)\n",
    "$$\n",
    "$$\n",
    "\\log(\\alpha_i(k)) = \\log(\\Psi_i(k)) + \\log \\left( \\sum_{l=1}^K e^{\\log(\\alpha_{i-1}(l)) + \\log(A_{lk})} \\right)\n",
    "$$"
   ]
  },
  {
   "cell_type": "markdown",
   "metadata": {},
   "source": [
    "$$ init: \\, \\alpha_1(l) = p(x_1, z_1 = l) = \\nu_l \\Psi_1(l), \\, \\forall l$$"
   ]
  },
  {
   "cell_type": "code",
   "execution_count": 9,
   "metadata": {},
   "outputs": [],
   "source": [
    "def forward(x, i, param):\n",
    "    \"\"\"return : log α_i s using log_trick\"\"\"\n",
    "    psi= np.array(param['B'])\n",
    "    A= np.array(param['A'])\n",
    "    nu= np.array(param['pi'])\n",
    "    K= len(A)\n",
    "    n= len(x)\n",
    "    #init:\n",
    "    log_alpha = np.full((n, K), -np.inf)\n",
    "    \n",
    "    for l in range(K):\n",
    "        log_alpha[0, l] = np.log(nu[l]) + np.log(B[l, x[0]])\n",
    "\n",
    "    for i in range(1,n):\n",
    "        for k in range(K):\n",
    "            # log_alpha_prev = np.log(log_alpha[i]) \n",
    "            exponent = log_alpha[i-1] + np.log(A[:,k])\n",
    "            # print(log_alpha[i-1] )\n",
    "            log_alpha[i, k] = np.log(psi[k, x[i]]) + log_sum_exp(exponent)\n",
    "\n",
    "\n",
    "\n",
    "    # return log_alpha\n",
    "    return log_alpha[i-1] "
   ]
  },
  {
   "cell_type": "code",
   "execution_count": 10,
   "metadata": {},
   "outputs": [
    {
     "data": {
      "text/plain": [
       "array([-16.02907819, -15.58840754])"
      ]
     },
     "execution_count": 10,
     "metadata": {},
     "output_type": "execute_result"
    }
   ],
   "source": [
    "logalpha_10 = forward(x, 10, params)\n",
    "logalpha_10 # hidden state at time i is 2?!"
   ]
  },
  {
   "cell_type": "code",
   "execution_count": 11,
   "metadata": {},
   "outputs": [
    {
     "data": {
      "text/plain": [
       "0"
      ]
     },
     "execution_count": 11,
     "metadata": {},
     "output_type": "execute_result"
    }
   ],
   "source": [
    "z[9]"
   ]
  },
  {
   "cell_type": "markdown",
   "metadata": {},
   "source": [
    "Une fonction HMMloglik(x, param) qui calcule la log-vraisemblance de x sous un modèle HMM discret"
   ]
  },
  {
   "cell_type": "code",
   "execution_count": 12,
   "metadata": {},
   "outputs": [],
   "source": [
    "def HMMloglik(x, param):\n",
    "    K= np.array(param['A']).shape[0]\n",
    "    sum = 0\n",
    "    for k in range(K):\n",
    "        sum+= forward(x, k, param)\n",
    "    return np.log(sum)"
   ]
  },
  {
   "cell_type": "code",
   "execution_count": 13,
   "metadata": {},
   "outputs": [],
   "source": [
    "def Viterbi(x, param):\n",
    "\n",
    "    psi= np.array(param['B'])\n",
    "    A= np.array(param['A'])\n",
    "    nu= np.array(param['pi'])\n",
    "    K= len(A)\n",
    "    n= len(x)\n",
    "    #init:\n",
    "    \n",
    "    print(psi.shape)\n",
    "    V = np.full((n, K), -np.inf)\n",
    "    S = np.full((n, K), -np.inf)\n",
    "\n",
    "   \n",
    "    \n",
    "    for l in range(K):\n",
    "        V[0, l] = np.log(nu[l]) + np.log(psi[l, x[0]])\n",
    "\n",
    "    for i in range(1,n):\n",
    "        for k in range(K):\n",
    "            # print(V[i-1,:])\n",
    "            V[i, k]= psi[k, x[i]] + np.max(V[i-1,:] * np.log(A[:,k]))\n",
    "            S[i,k ]= np.argmax(V[i-1,:]* np.log(A[:,k]))\n",
    "    print(V, S)\n",
    "    return \n",
    "\n",
    "\n",
    "\n",
    "    "
   ]
  },
  {
   "cell_type": "code",
   "execution_count": 14,
   "metadata": {},
   "outputs": [
    {
     "name": "stdout",
     "output_type": "stream",
     "text": [
      "(2, 6)\n",
      "[[-2.19722458 -1.79175947]\n",
      " [ 4.29234531  6.68229658]\n",
      " [-0.05350186 -0.60405021]\n",
      " [ 1.55754368  0.26027726]\n",
      " [ 0.08677512  0.47257705]\n",
      " [ 0.16221568  0.05020904]\n",
      " [ 0.15834609  0.49470995]\n",
      " [ 0.15854457  0.4478771 ]\n",
      " [ 0.15853439  0.05281144]\n",
      " [ 0.15853492  0.09443576]] [[-inf -inf]\n",
      " [  1.   0.]\n",
      " [  0.   1.]\n",
      " [  1.   0.]\n",
      " [  0.   1.]\n",
      " [  0.   1.]\n",
      " [  0.   1.]\n",
      " [  0.   1.]\n",
      " [  0.   1.]\n",
      " [  0.   1.]]\n"
     ]
    }
   ],
   "source": [
    "Viterbi(x, params)"
   ]
  },
  {
   "cell_type": "code",
   "execution_count": 15,
   "metadata": {},
   "outputs": [],
   "source": [
    "def forward_estep(x, i, param):\n",
    "    \"\"\"return : log α_i s using log_trick\"\"\"\n",
    "    psi= np.array(param['B'])\n",
    "    A= np.array(param['A'])\n",
    "    nu= np.array(param['pi'])\n",
    "    K= len(A)\n",
    "    n= len(x)\n",
    "    #init:\n",
    "    log_alpha = np.full((n, K), -np.inf)\n",
    "    \n",
    "    for l in range(K):\n",
    "        log_alpha[0, l] = np.log(nu[l]) + np.log(B[l, x[0]])\n",
    "\n",
    "    for i in range(1,n):\n",
    "        for l in range(K):\n",
    "            # log_alpha_prev = np.log(log_alpha[i]) \n",
    "            exponent = log_alpha[i-1] + np.log(A[:,l])\n",
    "            # print(log_alpha[i-1] )\n",
    "            log_alpha[i, l] = np.log(psi[l, x[i]]) + log_sum_exp(exponent)\n",
    "\n",
    "\n",
    "\n",
    "    return log_alpha.T\n",
    "  "
   ]
  },
  {
   "cell_type": "code",
   "execution_count": 16,
   "metadata": {},
   "outputs": [
    {
     "data": {
      "text/plain": [
       "array([[ -2.19722458,  -3.89367387,  -5.65941123,  -7.45809453,\n",
       "         -9.27367897, -11.0276449 , -12.82048994, -14.51946032,\n",
       "        -16.02907819, -17.72065311],\n",
       "       [ -1.79175947,  -4.16333743,  -6.50105636,  -8.78775921,\n",
       "         -9.39565684, -11.74273059, -12.43366213, -13.19513055,\n",
       "        -15.58840754, -17.96122173]])"
      ]
     },
     "execution_count": 16,
     "metadata": {},
     "output_type": "execute_result"
    }
   ],
   "source": [
    "forward_estep(x, 10, params)"
   ]
  },
  {
   "cell_type": "markdown",
   "metadata": {},
   "source": [
    "1. **Standard Form:**\n",
    "\n",
    "$$\n",
    "\\beta_i(k) = \\sum_{l=1}^{K} A[k, l] \\cdot B[l, x_{i+1}] \\cdot \\beta_{i+1}(l)\n",
    "$$\n",
    "\n",
    "2. **Log-Space Form:**\n",
    "\n",
    "$$\n",
    "\\log \\beta_i(k) = \\log \\sum_{l=1}^{K} \\exp\\left(\\log A[k, l] + \\log B[l, x_{i+1}] + \\log \\beta_{i+1}(l)\\right)\n",
    "$$\n"
   ]
  },
  {
   "cell_type": "code",
   "execution_count": 17,
   "metadata": {},
   "outputs": [],
   "source": [
    "def backward(x, param):\n",
    "    psi= np.array(param['B'])\n",
    "    A= np.array(param['A'])\n",
    "    nu= np.array(param['pi'])\n",
    "    K= len(A)\n",
    "    n= len(x)\n",
    "    #init:\n",
    "    log_beta = np.full((n, K), -np.inf)\n",
    "    for l in range(K):\n",
    "        log_beta[-1, l] = 0 #b_n(k)=1\n",
    "    \n",
    "    for i in range(n-2,-1, -1):\n",
    "        # print(i)\n",
    "        for l in range(K):\n",
    "            exponent= np.log(A[l, :]) + np.log(psi[:, x[i + 1]]) + log_beta[i + 1]\n",
    "            log_beta[i, l]= log_sum_exp(exponent)\n",
    "    return log_beta.T\n",
    "\n",
    "    \n",
    "    \n",
    "    "
   ]
  },
  {
   "cell_type": "code",
   "execution_count": 18,
   "metadata": {},
   "outputs": [
    {
     "data": {
      "text/plain": [
       "array([[-15.71124009, -13.90605029, -12.12743458, -10.40305273,\n",
       "         -8.80473368,  -7.05847096,  -5.40653174,  -3.63460173,\n",
       "         -1.81196218,   0.        ],\n",
       "       [-15.97241738, -13.70557625, -11.38184488,  -9.019267  ,\n",
       "         -8.24163032,  -5.88963219,  -5.11851441,  -4.39635096,\n",
       "         -2.23804657,   0.        ]])"
      ]
     },
     "execution_count": 18,
     "metadata": {},
     "output_type": "execute_result"
    }
   ],
   "source": [
    "backward(x, params)"
   ]
  },
  {
   "cell_type": "markdown",
   "metadata": {},
   "source": [
    "$$\n",
    "\\tau_i(k) \\propto \\alpha_i(k) \\beta_i(k),\n",
    "$$\n",
    "$$\n",
    "\\log \\tau_i(k) = \\log \\alpha_i(k) + \\log \\beta_i(k) + \\text{normalization constant (log-sum-exp trick)},\n",
    "$$\n",
    "$$\\xi_{i,i+1}(k, l) \\propto \\alpha_i(k) \\Psi_{i+1}(l) \\beta_{i+1}(l) A_{kl}.$$"
   ]
  },
  {
   "cell_type": "code",
   "execution_count": 19,
   "metadata": {},
   "outputs": [],
   "source": [
    "def estep(x, param):\n",
    "    A= np.array(param['A'])\n",
    "    K= len(A)\n",
    "    n= len(x)\n",
    "    log_alphas= forward_estep(x,n, param)\n",
    "    log_betas= backward(x, param)\n",
    "    psi= np.array(param['B'])\n",
    "    \n",
    "\n",
    "\n",
    "    log_taus = np.full((K, n), -np.inf)\n",
    "    log_transitions = np.full((K, K, n-1), -np.inf)\n",
    "    #init transitions\n",
    "\n",
    "    log_unnormalized_taus = log_alphas + log_betas\n",
    "    for i in range(n):\n",
    "        log_taus[:, i] = log_unnormalized_taus[:, i] - log_sum_exp(log_unnormalized_taus[:, i])  \n",
    "\n",
    "\n",
    "\n",
    "    for i in range(n-1):\n",
    "        for k in range(K):\n",
    "            for l in range(K):\n",
    "                log_transitions[k, l, i] = ( log_alphas[k, i] +  np.log(A[k, l]) + np.log(psi[l, x[i + 1]]) +  log_betas[l, i + 1])\n",
    "                log_transitions[:, :, i] -= log_sum_exp(log_transitions[:, :, i])  # Normalize\n",
    "\n",
    "    return log_taus, log_transitions\n"
   ]
  },
  {
   "cell_type": "code",
   "execution_count": 20,
   "metadata": {},
   "outputs": [
    {
     "data": {
      "text/plain": [
       "(array([[-0.7678912 , -0.6591507 , -0.64627235, -0.7205738 , -0.93783919,\n",
       "         -0.9455424 , -1.08644823, -1.01348859, -0.7004669 , -0.58007965],\n",
       "        [-0.62360339, -0.72834022, -0.74232779, -0.66645275, -0.4967137 ,\n",
       "         -0.49178932, -0.41160308, -0.45090805, -0.68588065, -0.82064827]]),\n",
       " array([[[-1.99005126e-08, -1.85243565e-08, -1.92311256e-08,\n",
       "          -2.22704059e-08, -2.31879335e-08, -2.44277495e-08,\n",
       "          -2.46666542e-08, -2.31786319e-08, -1.86628433e-08],\n",
       "         [-2.12011182e+01, -2.05738361e+01, -1.99769956e+01,\n",
       "          -1.93886043e+01, -2.04616286e+01, -1.98350388e+01,\n",
       "          -2.09057204e+01, -2.20558243e+01, -2.13273956e+01]],\n",
       " \n",
       "        [[-1.97921543e+01, -2.03851166e+01, -2.09984537e+01,\n",
       "          -2.16868375e+01, -2.05484724e+01, -2.12436069e+01,\n",
       "          -2.01626084e+01, -1.91014373e+01, -1.96827521e+01],\n",
       "         [-1.79052813e+01, -1.79531279e+01, -1.79282690e+01,\n",
       "          -1.78278972e+01, -1.76932347e+01, -1.76597527e+01,\n",
       "          -1.76285208e+01, -1.78411227e+01, -1.79963532e+01]]]))"
      ]
     },
     "execution_count": 20,
     "metadata": {},
     "output_type": "execute_result"
    }
   ],
   "source": [
    "estep(x, params)"
   ]
  },
  {
   "cell_type": "code",
   "execution_count": null,
   "metadata": {},
   "outputs": [],
   "source": []
  }
 ],
 "metadata": {
  "kernelspec": {
   "display_name": "Python 3",
   "language": "python",
   "name": "python3"
  },
  "language_info": {
   "codemirror_mode": {
    "name": "ipython",
    "version": 3
   },
   "file_extension": ".py",
   "mimetype": "text/x-python",
   "name": "python",
   "nbconvert_exporter": "python",
   "pygments_lexer": "ipython3",
   "version": "3.11.6"
  }
 },
 "nbformat": 4,
 "nbformat_minor": 2
}
