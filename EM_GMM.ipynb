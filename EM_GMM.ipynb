{
 "cells": [
  {
   "cell_type": "code",
   "execution_count": 1,
   "metadata": {},
   "outputs": [],
   "source": [
    "import pandas as pd\n",
    "import numpy as np"
   ]
  },
  {
   "cell_type": "code",
   "execution_count": 2,
   "metadata": {},
   "outputs": [],
   "source": [
    "data = pd.DataFrame({\n",
    "    'Var': [-3.3, -4.4, -1.9, 3.3, 2.5, 3.2, 0.3, 0.1, -0.1, -0.5],\n",
    "    'partition1': [1, 1, 1, 2, 2, 2, 2, 2, 1, 1],\n",
    "    'partition2': [1, 3, 2, 1, 3, 2, 1, 3, 2, 1]\n",
    "})\n",
    "\n",
    "data_T = data.T"
   ]
  },
  {
   "cell_type": "markdown",
   "metadata": {},
   "source": [
    "Question 1 : algorithm init"
   ]
  },
  {
   "cell_type": "code",
   "execution_count": 3,
   "metadata": {},
   "outputs": [],
   "source": [
    "def initEM( x , partition):\n",
    "    '''return ((π0_K, θ = (μ0_K, var0_K))'''\n",
    "    x = np.array(x)\n",
    "    partition = np.array(partition)\n",
    "    params ={'pi' : [], 'theta':{'mu': [], 'sigma2':[]}}\n",
    "\n",
    "    K = np.unique(partition)\n",
    "    for k in K:\n",
    "        cluster = [x[i] for i in range(len(x)) if partition[i] == k] \n",
    "\n",
    "        pi = len(cluster) / len(x)\n",
    "        mu , sigma2 = np.mean(np.array(cluster)), np.var(np.array(cluster))\n",
    "        params['pi'].append(pi)\n",
    "        params['theta']['mu'].append(mu)\n",
    "        params['theta']['sigma2'].append(sigma2)\n",
    "    \n",
    "\n",
    "    return params\n",
    "    \n"
   ]
  },
  {
   "cell_type": "code",
   "execution_count": 6,
   "metadata": {},
   "outputs": [
    {
     "data": {
      "text/plain": [
       "{'pi': [0.4, 0.3, 0.3],\n",
       " 'theta': {'mu': [-0.05, 0.4000000000000001, -0.6000000000000001],\n",
       "  'sigma2': [5.527499999999999, 4.46, 8.180000000000001]}}"
      ]
     },
     "execution_count": 6,
     "metadata": {},
     "output_type": "execute_result"
    }
   ],
   "source": [
    "param = initEM(data['Var'], data['partition2'])\n",
    "param\n"
   ]
  },
  {
   "cell_type": "markdown",
   "metadata": {},
   "source": [
    "Question 2 : Etape E (guess)"
   ]
  },
  {
   "cell_type": "code",
   "execution_count": 5,
   "metadata": {},
   "outputs": [],
   "source": [
    "from scipy.stats import lognorm\n",
    "\n",
    "def Estep(x, params):\n",
    "\n",
    "    #calculer posterior P_theta(Z_ik = 1|X) \n",
    "    pi = params['pi']\n",
    "    mu = params['theta']['mu']\n",
    "    sigma2 = params['theta']['sigma2']\n",
    "    K = len(params['pi']) \n",
    "    n=len(x)\n",
    "    tau = np.zeros((n,K))\n",
    "    log_tau = np.zeros((n,K))\n",
    "    for k in range(K):\n",
    "\n",
    "        log_tau[:, k] = np.log(pi[k]) +  lognorm.pdf(x, s=sigma2[k], scale=np.exp(mu[k]))\n",
    "    \n",
    "\n",
    "\n",
    "    #LogSumExptrick cte\n",
    "    m = np.max(log_tau, axis=1, keepdims=True)\n",
    "    # print(len(m))\n",
    "    cte = m + np.log(np.sum(np.exp(log_tau - m), axis=1, keepdims=True))\n",
    "    # print(len(cte))\n",
    "    log_tau = log_tau - cte \n",
    "    tau = np.exp(log_tau)  \n",
    "  \n",
    "    return tau   \n",
    "    \n"
   ]
  },
  {
   "cell_type": "code",
   "execution_count": 161,
   "metadata": {},
   "outputs": [
    {
     "data": {
      "text/plain": [
       "array([[0.4       , 0.3       , 0.3       ],\n",
       "       [0.4       , 0.3       , 0.3       ],\n",
       "       [0.4       , 0.3       , 0.3       ],\n",
       "       [0.4001804 , 0.30174701, 0.29807259],\n",
       "       [0.40024965, 0.30232881, 0.29742154],\n",
       "       [0.40018697, 0.30180426, 0.29800877],\n",
       "       [0.40309148, 0.31594836, 0.28096016],\n",
       "       [0.41071986, 0.3337723 , 0.25550784],\n",
       "       [0.4       , 0.3       , 0.3       ],\n",
       "       [0.4       , 0.3       , 0.3       ]])"
      ]
     },
     "execution_count": 161,
     "metadata": {},
     "output_type": "execute_result"
    }
   ],
   "source": [
    "tau = Estep(data['Var'], initEM(data['Var'], data['partition2']))\n",
    "tau"
   ]
  },
  {
   "cell_type": "markdown",
   "metadata": {},
   "source": [
    "Question 3 : Etape M (check)"
   ]
  },
  {
   "cell_type": "code",
   "execution_count": 162,
   "metadata": {},
   "outputs": [],
   "source": [
    "def compute_PI(tau): # pi_k is mean of all posteriori probs of each obs in cluster k\n",
    "    # print(np.shape(tau))\n",
    "\n",
    "    # mean column wise of tau ( or log_tau)!\n",
    "    PI = np.mean(np.array(tau), axis=0)\n",
    "    return PI\n",
    "    \n",
    "\n",
    "def compute_mu(x,tau):\n",
    "    tau = np.array(tau)\n",
    "    x = np.array(x)\n",
    "    \n",
    "    K = (tau.shape[1])\n",
    "    mu = [(np.sum(tau[:, k][:, None] * x, axis = 0) / np.sum(tau[:, k])) for k in range(K) ]\n",
    "    return mu \n",
    "\n",
    "def compute_sigma2(tau, mu, x):\n",
    "    tau = np.array(tau)\n",
    "    x = np.array(x)\n",
    "    sigma2 = []\n",
    "\n",
    "    K = (tau.shape[1])\n",
    "    # sigma2 = [(np.sum((tau[:, k] * (( np.transpose(x) - mu[k])**2)), axis = 1) / np.sum(tau[:, k])) for k in range(K) ]\n",
    "\n",
    "    for k in range(K):\n",
    "        diff = x - mu[k]  # mean to each row of x\n",
    "        diff2 = diff ** 2\n",
    "        # weighted_diff2 = tau[:, k] * diff2\n",
    "        weighted_diff2 = tau[:, k][:, None] * diff2\n",
    "        cluster_sigma2 = np.sum(weighted_diff2, axis=0) / np.sum(tau[:, k])\n",
    "        # sigma2.append(np.mean(cluster_sigma2)) \n",
    "        sigma2.append(cluster_sigma2.mean())\n",
    "\n",
    "    return sigma2 \n",
    "    \n",
    "\n",
    "def Mstep(x, tau):\n",
    "    #update mixture weights \n",
    "    PI_t = compute_PI(tau)\n",
    "    #update means\n",
    "    mu_t = compute_mu(x,tau)\n",
    "    #update vars\n",
    "    sigma2_t = compute_sigma2(tau, mu_t, x)\n",
    "    return PI_t, mu_t, sigma2_t\n",
    "    "
   ]
  },
  {
   "cell_type": "code",
   "execution_count": 163,
   "metadata": {},
   "outputs": [
    {
     "data": {
      "text/plain": [
       "[array([-3.3, -4.4, -1.9,  3.3,  2.5,  3.2,  0.3,  0.1, -0.1, -0.5]),\n",
       " array([-3.3, -4.4, -1.9,  3.3,  2.5,  3.2,  0.3,  0.1, -0.1, -0.5]),\n",
       " array([-3.3, -4.4, -1.9,  3.3,  2.5,  3.2,  0.3,  0.1, -0.1, -0.5])]"
      ]
     },
     "execution_count": 163,
     "metadata": {},
     "output_type": "execute_result"
    }
   ],
   "source": [
    "compute_mu(data['Var'],tau) "
   ]
  },
  {
   "cell_type": "markdown",
   "metadata": {},
   "source": [
    "question 4:"
   ]
  },
  {
   "cell_type": "code",
   "execution_count": 164,
   "metadata": {},
   "outputs": [],
   "source": [
    "from scipy.stats import norm\n",
    "\n",
    "def compute_mixture_llhood(x,param):\n",
    "    pi = np.array(param['pi'])  #  (K,)\n",
    "    mu = np.array(param['theta']['mu'])  #(K,)\n",
    "    sigma2 = np.sqrt(np.array(param['theta']['sigma2']))  #(K,)\n",
    "    \n",
    "    #contribution de chaque k dans chaque x_i \n",
    "    densities = np.array([norm.pdf(x, loc=mu_k, scale=sigma2_k) for mu_k, sigma2_k in zip(mu, sigma2)]).T  #(n, K) \n",
    "    weighted_densities = densities * pi \n",
    "    marginal_likelihood = np.sum(np.log(np.sum(weighted_densities, axis=1)))\n",
    "    return marginal_likelihood\n",
    "\n"
   ]
  },
  {
   "cell_type": "code",
   "execution_count": 165,
   "metadata": {},
   "outputs": [
    {
     "data": {
      "text/plain": [
       "-23.314947226151602"
      ]
     },
     "execution_count": 165,
     "metadata": {},
     "output_type": "execute_result"
    }
   ],
   "source": [
    "\n",
    "log_likelihood = compute_mixture_llhood(data['Var'], param)\n",
    "log_likelihood\n"
   ]
  },
  {
   "cell_type": "markdown",
   "metadata": {},
   "source": [
    "ELBO question :\n",
    "$$\n",
    "\\mathcal{L}(q, \\theta) = \\mathbb{E}_q \\left[ \\log p_\\theta(X, Z) \\right] + \\mathcal{H}(q)\n",
    "$$\n",
    "\n",
    "-> eval expectation term : \n",
    "$$\n",
    "\\mathbb{E}_q \\left[ \\log p_\\theta(X, Z) \\right] = \\sum_{i=1}^n \\sum_{k=1}^K q(Z_i = k) \\left( \\log \\pi_k + \\log \\mathcal{N}(x_i \\mid \\mu_k, \\sigma_k^2) \\right)\n",
    "$$\n",
    "-> eval entropy term : \n",
    "$$\n",
    "\\mathcal{H}(q) = - \\sum_{i=1}^n \\sum_{k=1}^K q(Z_i = k) \\log q(Z_i = k)\n",
    "$$"
   ]
  },
  {
   "cell_type": "code",
   "execution_count": 166,
   "metadata": {},
   "outputs": [
    {
     "data": {
      "text/plain": [
       "(-23.540883360976366, -23.314947226151602)"
      ]
     },
     "execution_count": 166,
     "metadata": {},
     "output_type": "execute_result"
    }
   ],
   "source": [
    "pi = param['pi']\n",
    "mu = param['theta']['mu'] \n",
    "sigma2 = param['theta']['sigma2'] \n",
    "X = data['Var']\n",
    "n = len(data['Var']) \n",
    "K = len(pi)\n",
    "\n",
    "eq_log_joint = 0.0\n",
    "for i in range(n):\n",
    "    for k in range(K):\n",
    "        log_pi_k = np.log(pi[k]) \n",
    "\n",
    "        log_normale_k = -0.5 * np.log(2 * np.pi * sigma2[k]) - ((X[i] - mu[k])**2) / (2 * sigma2[k])\n",
    "\n",
    "        eq_log_joint += tau[i, k] * (log_pi_k + log_normale_k)\n",
    "\n",
    "entropy = 0.0\n",
    "for i in range(n):\n",
    "    for k in range(K):\n",
    "        if tau[i, k] > 0:  \n",
    "            entropy -= tau[i, k] * np.log(tau[i, k])\n",
    "\n",
    "elbo = eq_log_joint + entropy\n",
    "\n",
    "elbo , log_likelihood"
   ]
  },
  {
   "cell_type": "markdown",
   "metadata": {},
   "source": [
    "almost??"
   ]
  },
  {
   "cell_type": "markdown",
   "metadata": {},
   "source": [
    "Question 5:"
   ]
  },
  {
   "cell_type": "code",
   "execution_count": null,
   "metadata": {},
   "outputs": [],
   "source": [
    "def EMgauss1D(X, K, partition_init, max_iter, rtol):\n",
    "\n",
    "    #init \n",
    "    n = len(X)  \n",
    "    param = initEM( X , partition_init)\n",
    "\n",
    "    logliks = []  \n",
    "    loglik_t_1 = None  # prev log-likelihood for convergence check\n",
    "\n",
    "\n",
    "    for t in range(max_iter):\n",
    "        #E\n",
    "        tau = Estep(X, param) \n",
    "\n",
    "        # M\n",
    "        param['pi'], param['theta']['mu'], param['theta']['sigma2'] = Mstep(X, tau)\n",
    "\n",
    "        loglik_t = compute_mixture_llhood(X, param)\n",
    "        logliks.append(loglik_t)\n",
    "\n",
    "        if loglik_t_1 is not None:\n",
    "            rel_diff = np.abs((loglik_t - loglik_t_1) / loglik_t_1)\n",
    "            if rel_diff < rtol:\n",
    "                print(f\"Converged at iteration {t}\")\n",
    "                break\n",
    "\n",
    "        loglik_t_1 = loglik_t  \n",
    "\n",
    "\n",
    "\n",
    "    return logliks, param, tau"
   ]
  },
  {
   "cell_type": "code",
   "execution_count": 172,
   "metadata": {},
   "outputs": [
    {
     "name": "stdout",
     "output_type": "stream",
     "text": [
      "Converged at iteration 7\n"
     ]
    }
   ],
   "source": [
    "\n",
    "logliks, param, tau =EMgauss1D(X, 2 ,data['partition1'], 20, 1e-6)"
   ]
  },
  {
   "cell_type": "code",
   "execution_count": 180,
   "metadata": {},
   "outputs": [],
   "source": [
    "df_logliks = pd.DataFrame({\n",
    "        'Iteration': range(1, len(logliks) + 1),\n",
    "        'Log-Likelihood': logliks\n",
    "    })\n",
    "df_params = pd.DataFrame({\n",
    "    'Cluster': range(1, len(param['pi']) + 1),\n",
    "    'Pi': param['pi'],\n",
    "    'Mu': param['theta']['mu'],\n",
    "    'Sigma^2': param['theta']['sigma2']\n",
    "})\n",
    "\n",
    "df_tau = pd.DataFrame(tau, columns=[f'Cluster_{k+1}' for k in range(tau.shape[1])])\n",
    "\n"
   ]
  },
  {
   "cell_type": "code",
   "execution_count": 181,
   "metadata": {},
   "outputs": [
    {
     "data": {
      "text/html": [
       "<div>\n",
       "<style scoped>\n",
       "    .dataframe tbody tr th:only-of-type {\n",
       "        vertical-align: middle;\n",
       "    }\n",
       "\n",
       "    .dataframe tbody tr th {\n",
       "        vertical-align: top;\n",
       "    }\n",
       "\n",
       "    .dataframe thead th {\n",
       "        text-align: right;\n",
       "    }\n",
       "</style>\n",
       "<table border=\"1\" class=\"dataframe\">\n",
       "  <thead>\n",
       "    <tr style=\"text-align: right;\">\n",
       "      <th></th>\n",
       "      <th>Iteration</th>\n",
       "      <th>Log-Likelihood</th>\n",
       "    </tr>\n",
       "  </thead>\n",
       "  <tbody>\n",
       "    <tr>\n",
       "      <th>0</th>\n",
       "      <td>1</td>\n",
       "      <td>355.453724</td>\n",
       "    </tr>\n",
       "    <tr>\n",
       "      <th>1</th>\n",
       "      <td>2</td>\n",
       "      <td>336.810197</td>\n",
       "    </tr>\n",
       "    <tr>\n",
       "      <th>2</th>\n",
       "      <td>3</td>\n",
       "      <td>338.319962</td>\n",
       "    </tr>\n",
       "    <tr>\n",
       "      <th>3</th>\n",
       "      <td>4</td>\n",
       "      <td>339.162459</td>\n",
       "    </tr>\n",
       "    <tr>\n",
       "      <th>4</th>\n",
       "      <td>5</td>\n",
       "      <td>338.903708</td>\n",
       "    </tr>\n",
       "    <tr>\n",
       "      <th>5</th>\n",
       "      <td>6</td>\n",
       "      <td>343.212446</td>\n",
       "    </tr>\n",
       "    <tr>\n",
       "      <th>6</th>\n",
       "      <td>7</td>\n",
       "      <td>347.718631</td>\n",
       "    </tr>\n",
       "    <tr>\n",
       "      <th>7</th>\n",
       "      <td>8</td>\n",
       "      <td>347.718631</td>\n",
       "    </tr>\n",
       "  </tbody>\n",
       "</table>\n",
       "</div>"
      ],
      "text/plain": [
       "   Iteration  Log-Likelihood\n",
       "0          1      355.453724\n",
       "1          2      336.810197\n",
       "2          3      338.319962\n",
       "3          4      339.162459\n",
       "4          5      338.903708\n",
       "5          6      343.212446\n",
       "6          7      347.718631\n",
       "7          8      347.718631"
      ]
     },
     "execution_count": 181,
     "metadata": {},
     "output_type": "execute_result"
    }
   ],
   "source": [
    "df_logliks"
   ]
  },
  {
   "cell_type": "code",
   "execution_count": null,
   "metadata": {},
   "outputs": [],
   "source": []
  }
 ],
 "metadata": {
  "kernelspec": {
   "display_name": "Python 3",
   "language": "python",
   "name": "python3"
  },
  "language_info": {
   "codemirror_mode": {
    "name": "ipython",
    "version": 3
   },
   "file_extension": ".py",
   "mimetype": "text/x-python",
   "name": "python",
   "nbconvert_exporter": "python",
   "pygments_lexer": "ipython3",
   "version": "3.11.6"
  }
 },
 "nbformat": 4,
 "nbformat_minor": 2
}
